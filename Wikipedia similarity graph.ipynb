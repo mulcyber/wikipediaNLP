{
 "cells": [
  {
   "cell_type": "markdown",
   "metadata": {},
   "source": [
    "# Wikipedia similarity graph\n",
    "\n",
    "The goal of this notebook is to create a graph where node are wikipedia page and weighted edges are the similarity between articles.\n"
   ]
  },
  {
   "cell_type": "code",
   "execution_count": null,
   "metadata": {},
   "outputs": [],
   "source": [
    "import numpy as np\n",
    "import wikipedia_preproc as wiki\n",
    "from sklearn.metrics.pairwise import cosine_similarity"
   ]
  },
  {
   "cell_type": "markdown",
   "metadata": {},
   "source": [
    "## Computing similarity\n",
    "\n",
    "### Step 1: Fetching wikipedia pages data"
   ]
  },
  {
   "cell_type": "code",
   "execution_count": null,
   "metadata": {},
   "outputs": [],
   "source": [
    "D = # Fetch corpus\n",
    "Ncorp = len(D)"
   ]
  },
  {
   "cell_type": "markdown",
   "metadata": {},
   "source": [
    "### Step 2: Compute Word2vec of each page"
   ]
  },
  {
   "cell_type": "code",
   "execution_count": null,
   "metadata": {},
   "outputs": [],
   "source": [
    "Nvec = 100"
   ]
  },
  {
   "cell_type": "markdown",
   "metadata": {},
   "source": [
    "### Step 3: List vocabulary"
   ]
  },
  {
   "cell_type": "code",
   "execution_count": null,
   "metadata": {},
   "outputs": [],
   "source": [
    "voc = # Fetch vocabulary"
   ]
  },
  {
   "cell_type": "markdown",
   "metadata": {},
   "source": [
    "### Step 4: Compute inverse document frequency (idf) of each term"
   ]
  },
  {
   "cell_type": "code",
   "execution_count": null,
   "metadata": {},
   "outputs": [],
   "source": [
    "def compute_idf(voc, D):\n",
    "    idf = np.zeros(len(voc))\n",
    "    for i, t in enumerate(voc):\n",
    "        print(\"\\r%d/%d\" % (i, len(voc)), end=\"\")\n",
    "        appears = 0\n",
    "        for d in D:\n",
    "            if t in d:\n",
    "                appears += 1\n",
    "        idf[i] = np.log(Ncorp/appears)\n",
    "    return idf\n",
    "        \n",
    "idf = compute_idf(voc, D)"
   ]
  },
  {
   "cell_type": "markdown",
   "metadata": {},
   "source": [
    "### Step 5: For each document, compute each term frequency (tf) and tf-idf. Keep only the N=100 most important terms."
   ]
  },
  {
   "cell_type": "code",
   "execution_count": null,
   "metadata": {},
   "outputs": [],
   "source": [
    "N = 100\n",
    "\n",
    "def compute_tf(d):\n",
    "    n = len(d)\n",
    "    f = []\n",
    "    terms = []\n",
    "    for t in d:\n",
    "        if t not in terms:\n",
    "            terms.append(t)\n",
    "            f = np.sum(d == t) / n\n",
    "    terms = np.array(terms)\n",
    "    f = np.array(f)\n",
    "    idf = 0.5 + 0.5 * f / np.max(f)\n",
    "    return terms, f\n",
    "\n",
    "doc_vectors = np.zeros((Ncorp, N, Nvec + 1))\n",
    "for i_d, d in enumerate(D):\n",
    "    print(\"\\r%d/%d\" % (i_d, Ncorp), end=\"\")\n",
    "    terms, tf = compute_tf(d)\n",
    "    tfidf = np.zeros(len(terms))\n",
    "    for i, t in enumerate(terms):\n",
    "        tfidf[i] = tf[i] * idf[np.where(voc == t)[0]]\n",
    "    index_sorted = tfidf.argsort()\n",
    "    terms = terms[index_sorted]\n",
    "    tfidf = tfidf[index_sorted]\n",
    "    doc_vectors[i_d, :, :-1] = terms[:N]\n",
    "    doc_vectors[i_d, :, -1] = tfidf"
   ]
  },
  {
   "cell_type": "markdown",
   "metadata": {},
   "source": [
    "### Testing: creating a search function using this similarity"
   ]
  },
  {
   "cell_type": "code",
   "execution_count": null,
   "metadata": {},
   "outputs": [],
   "source": []
  },
  {
   "cell_type": "markdown",
   "metadata": {},
   "source": [
    "## Creating the graph\n",
    "\n",
    "### Step1: Compute all document similarities"
   ]
  },
  {
   "cell_type": "code",
   "execution_count": null,
   "metadata": {},
   "outputs": [],
   "source": [
    "def doc_similarity(d1, d2):\n",
    "    sim = 0\n",
    "    for v1 in d1:\n",
    "        t1 = v1[:N]\n",
    "        tfidf1 = v1[-1]\n",
    "        for v2 in d2:\n",
    "            t2 = v2[:N]\n",
    "            tfidf2 = v2[-1]\n",
    "            sim += cosine_similarity(t1, t2) * tfidf1 * tfidf2\n",
    "    return sim / N**2"
   ]
  },
  {
   "cell_type": "markdown",
   "metadata": {},
   "source": [
    "### Step2: Compute similarity histogram"
   ]
  },
  {
   "cell_type": "code",
   "execution_count": null,
   "metadata": {},
   "outputs": [],
   "source": []
  },
  {
   "cell_type": "markdown",
   "metadata": {},
   "source": [
    "### Step 3: Choose threshold"
   ]
  },
  {
   "cell_type": "code",
   "execution_count": null,
   "metadata": {},
   "outputs": [],
   "source": []
  },
  {
   "cell_type": "markdown",
   "metadata": {},
   "source": [
    "### Step 4: Create graph"
   ]
  },
  {
   "cell_type": "code",
   "execution_count": null,
   "metadata": {},
   "outputs": [],
   "source": []
  },
  {
   "cell_type": "markdown",
   "metadata": {},
   "source": [
    "## Results\n",
    "\n",
    "### Graph representation"
   ]
  },
  {
   "cell_type": "code",
   "execution_count": null,
   "metadata": {},
   "outputs": [],
   "source": []
  },
  {
   "cell_type": "markdown",
   "metadata": {},
   "source": [
    "### Clustering"
   ]
  },
  {
   "cell_type": "code",
   "execution_count": null,
   "metadata": {},
   "outputs": [],
   "source": []
  },
  {
   "cell_type": "markdown",
   "metadata": {},
   "source": [
    "### Comparision to wikipedia portals"
   ]
  },
  {
   "cell_type": "code",
   "execution_count": null,
   "metadata": {},
   "outputs": [],
   "source": []
  }
 ],
 "metadata": {
  "kernelspec": {
   "display_name": "Python 3",
   "language": "python",
   "name": "python3"
  },
  "language_info": {
   "codemirror_mode": {
    "name": "ipython",
    "version": 3
   },
   "file_extension": ".py",
   "mimetype": "text/x-python",
   "name": "python",
   "nbconvert_exporter": "python",
   "pygments_lexer": "ipython3",
   "version": "3.7.3"
  }
 },
 "nbformat": 4,
 "nbformat_minor": 2
}
