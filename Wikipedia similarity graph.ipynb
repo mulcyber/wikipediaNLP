{
 "cells": [
  {
   "cell_type": "markdown",
   "metadata": {},
   "source": [
    "# Wikipedia similarity graph\n",
    "\n",
    "The goal of this notebook is to create a graph where node are wikipedia page and weighted edges are the similarity between articles.\n"
   ]
  },
  {
   "cell_type": "code",
   "execution_count": 4,
   "metadata": {},
   "outputs": [
    {
     "ename": "ModuleNotFoundError",
     "evalue": "No module named 'gensim'",
     "output_type": "error",
     "traceback": [
      "\u001b[0;31m--------------------------------------------------------------------------\u001b[0m",
      "\u001b[0;31mModuleNotFoundError\u001b[0m                      Traceback (most recent call last)",
      "\u001b[0;32m<ipython-input-4-d6d84a1b11bf>\u001b[0m in \u001b[0;36m<module>\u001b[0;34m\u001b[0m\n\u001b[1;32m      1\u001b[0m \u001b[0;32mimport\u001b[0m \u001b[0mnumpy\u001b[0m \u001b[0;32mas\u001b[0m \u001b[0mnp\u001b[0m\u001b[0;34m\u001b[0m\u001b[0;34m\u001b[0m\u001b[0m\n\u001b[0;32m----> 2\u001b[0;31m \u001b[0;32mimport\u001b[0m \u001b[0mwikipedia_preprocessing\u001b[0m \u001b[0;32mas\u001b[0m \u001b[0mwiki\u001b[0m\u001b[0;34m\u001b[0m\u001b[0;34m\u001b[0m\u001b[0m\n\u001b[0m\u001b[1;32m      3\u001b[0m \u001b[0;32mfrom\u001b[0m \u001b[0msklearn\u001b[0m\u001b[0;34m.\u001b[0m\u001b[0mmetrics\u001b[0m\u001b[0;34m.\u001b[0m\u001b[0mpairwise\u001b[0m \u001b[0;32mimport\u001b[0m \u001b[0mcosine_similarity\u001b[0m\u001b[0;34m\u001b[0m\u001b[0;34m\u001b[0m\u001b[0m\n\u001b[1;32m      4\u001b[0m \u001b[0;32mimport\u001b[0m \u001b[0mpickle\u001b[0m\u001b[0;34m\u001b[0m\u001b[0;34m\u001b[0m\u001b[0m\n\u001b[1;32m      5\u001b[0m \u001b[0;32mfrom\u001b[0m \u001b[0mos\u001b[0m \u001b[0;32mimport\u001b[0m \u001b[0mpath\u001b[0m\u001b[0;34m\u001b[0m\u001b[0;34m\u001b[0m\u001b[0m\n",
      "\u001b[0;32m~/Pougne/DTU_Spring_2019/02460-Advanced_Machine_Learning/wikipediaNLP/wikipedia_preprocessing.py\u001b[0m in \u001b[0;36m<module>\u001b[0;34m\u001b[0m\n\u001b[1;32m     33\u001b[0m \u001b[0;31m# Numpy\u001b[0m\u001b[0;34m\u001b[0m\u001b[0;34m\u001b[0m\u001b[0;34m\u001b[0m\u001b[0m\n\u001b[1;32m     34\u001b[0m \u001b[0;32mimport\u001b[0m \u001b[0mnumpy\u001b[0m \u001b[0;32mas\u001b[0m \u001b[0mnp\u001b[0m\u001b[0;34m\u001b[0m\u001b[0;34m\u001b[0m\u001b[0m\n\u001b[0;32m---> 35\u001b[0;31m \u001b[0;32mfrom\u001b[0m \u001b[0mgensim\u001b[0m\u001b[0;34m.\u001b[0m\u001b[0mmodels\u001b[0m \u001b[0;32mimport\u001b[0m \u001b[0mKeyedVectors\u001b[0m\u001b[0;34m\u001b[0m\u001b[0;34m\u001b[0m\u001b[0m\n\u001b[0m\u001b[1;32m     36\u001b[0m \u001b[0;31m# Serialization\u001b[0m\u001b[0;34m\u001b[0m\u001b[0;34m\u001b[0m\u001b[0;34m\u001b[0m\u001b[0m\n\u001b[1;32m     37\u001b[0m \u001b[0;32mimport\u001b[0m \u001b[0mast\u001b[0m\u001b[0;34m\u001b[0m\u001b[0;34m\u001b[0m\u001b[0m\n",
      "\u001b[0;31mModuleNotFoundError\u001b[0m: No module named 'gensim'"
     ]
    }
   ],
   "source": [
    "import numpy as np\n",
    "import wikipedia_preprocessing as wiki\n",
    "from sklearn.metrics.pairwise import cosine_similarity\n",
    "import pickle\n",
    "from os import path\n",
    "\n",
    "DATA_folder = path.join(\"Data\", \"Wiki\", \"graph\")"
   ]
  },
  {
   "cell_type": "markdown",
   "metadata": {},
   "source": [
    "## Computing similarity\n",
    "\n",
    "### Step 1: Fetching wikipedia pages data"
   ]
  },
  {
   "cell_type": "code",
   "execution_count": null,
   "metadata": {},
   "outputs": [],
   "source": [
    "wiki.get_all_dumps()\n",
    "wiki.precompute_pages(max_dumps=1)\n",
    "\n",
    "pages = wiki.Pages()\n",
    "Ncorp = len(pages)"
   ]
  },
  {
   "cell_type": "markdown",
   "metadata": {},
   "source": [
    "### Step 2: Compute Word2vec of each page"
   ]
  },
  {
   "cell_type": "code",
   "execution_count": null,
   "metadata": {},
   "outputs": [],
   "source": [
    "Nvec = 100\n",
    "\n",
    "wiki.vectorize_pages(pages)\n",
    "del pages\n",
    "\n",
    "D = wiki.VecPages()"
   ]
  },
  {
   "cell_type": "markdown",
   "metadata": {},
   "source": [
    "### Step 3: List vocabulary"
   ]
  },
  {
   "cell_type": "code",
   "execution_count": null,
   "metadata": {},
   "outputs": [],
   "source": [
    "vocab_filepath = path.join(DATA_folder, \"vocab.pkl\")\n",
    "\n",
    "if path.isfile(abs_precomp_filepath):\n",
    "    print(\"Vocabulary already computed\")\n",
    "    with open(vocab_filepath, \"rb\") as f:\n",
    "        voc = pickle.load(f)\n",
    "else:\n",
    "    voc = []\n",
    "    for i, d in enumerate(D):\n",
    "        print(\"\\r%d/%d\" % (i, Ncorp), end=\"\")\n",
    "        for t in d[\"content\"]:\n",
    "            if t not in voc:\n",
    "                voc.append(t)\n",
    "    print(\"Saving vocabulary.\")\n",
    "    with open(vocab_filepath, \"wb\") as f:\n",
    "        pickle.dump(voc, f)\n",
    "    \n"
   ]
  },
  {
   "cell_type": "markdown",
   "metadata": {},
   "source": [
    "### Step 4: Compute inverse document frequency (idf) of each term"
   ]
  },
  {
   "cell_type": "code",
   "execution_count": null,
   "metadata": {},
   "outputs": [],
   "source": [
    "def compute_idf(voc, D):\n",
    "    idf = np.zeros(len(voc))\n",
    "    for i, t in enumerate(voc):\n",
    "        print(\"\\r%d/%d\" % (i, len(voc)), end=\"\")\n",
    "        appears = 0\n",
    "        for d in D:\n",
    "            if t in d[\"content\"]:\n",
    "                appears += 1\n",
    "        idf[i] = np.log(Ncorp/appears)\n",
    "    return idf\n",
    "\n",
    "idf_filepath = path.join(DATA_folder, \"idf.pkl\")\n",
    "\n",
    "if path.isfile(idf_filepath):\n",
    "    print(\"Pages idf already computed\")\n",
    "    with open(idf_filepath, \"rb\") as f:\n",
    "        idf = pickle.load(f)\n",
    "else:\n",
    "    idf = compute_idf(voc, D)\n",
    "    print(\"Saving pages idf.\")\n",
    "    with open(idf_filepath, \"wb\") as f:\n",
    "        pickle.dump(idf, f)"
   ]
  },
  {
   "cell_type": "markdown",
   "metadata": {},
   "source": [
    "### Step 5: For each document, compute each term frequency (tf) and tf-idf. Keep only the N=100 most important terms."
   ]
  },
  {
   "cell_type": "code",
   "execution_count": null,
   "metadata": {},
   "outputs": [],
   "source": [
    "N = 100\n",
    "\n",
    "def compute_tf(d):\n",
    "    n = len(d[\"content\"])\n",
    "    f = []\n",
    "    terms = []\n",
    "    for t in d[\"content\"]:\n",
    "        if t not in terms:\n",
    "            terms.append(t)\n",
    "            f = np.sum(d == t) / n\n",
    "    terms = np.array(terms)\n",
    "    f = np.array(f)\n",
    "    idf = 0.5 + 0.5 * f / np.max(f)\n",
    "    return terms, f\n",
    "\n",
    "def compute_doc_vectors():\n",
    "    doc_vectors = np.zeros((Ncorp, N, Nvec + 1))\n",
    "    for i_d, d in enumerate(D):\n",
    "        print(\"\\r%d/%d\" % (i_d, Ncorp), end=\"\")\n",
    "        terms, tf = compute_tf(d)\n",
    "        tfidf = np.zeros(len(terms))\n",
    "        for i, t in enumerate(terms):\n",
    "            tfidf[i] = tf[i] * idf[np.where(voc == t)[0]]\n",
    "        index_sorted = tfidf.argsort()\n",
    "        terms = terms[index_sorted]\n",
    "        tfidf = tfidf[index_sorted]\n",
    "        doc_vectors[i_d, :, :-1] = terms[:N]\n",
    "        doc_vectors[i_d, :, -1] = tfidf\n",
    "        return doc_vectors\n",
    "        \n",
    "vec_doc_filepath = path.join(DATA_folder, \"vec_doc.pkl\")\n",
    "\n",
    "if path.isfile(vec_doc_filepath):\n",
    "    print(\"Vec pages already computed\")\n",
    "    with open(vec_doc_filepath, \"rb\") as f:\n",
    "        doc_vectors = pickle.load(f)\n",
    "else:\n",
    "    doc_vectors = compute_doc_vectors(voc, D)\n",
    "    print(\"Saving Vec pages.\")\n",
    "    with open(vec_doc_filepath, \"wb\") as f:\n",
    "        pickle.dump(doc_vectors, f)"
   ]
  },
  {
   "cell_type": "markdown",
   "metadata": {},
   "source": [
    "### Testing: creating a search function using this similarity"
   ]
  },
  {
   "cell_type": "code",
   "execution_count": null,
   "metadata": {},
   "outputs": [],
   "source": []
  },
  {
   "cell_type": "markdown",
   "metadata": {},
   "source": [
    "## Creating the graph\n",
    "\n",
    "### Step1: Compute all document similarities"
   ]
  },
  {
   "cell_type": "code",
   "execution_count": null,
   "metadata": {},
   "outputs": [],
   "source": [
    "def doc_similarity(d1, d2):\n",
    "    sim = 0\n",
    "    for v1 in d1:\n",
    "        t1 = v1[:N]\n",
    "        tfidf1 = v1[-1]\n",
    "        for v2 in d2:\n",
    "            t2 = v2[:N]\n",
    "            tfidf2 = v2[-1]\n",
    "            sim += cosine_similarity(t1, t2) * tfidf1 * tfidf2\n",
    "    return sim / N**2"
   ]
  },
  {
   "cell_type": "markdown",
   "metadata": {},
   "source": [
    "### Step2: Compute similarity histogram"
   ]
  },
  {
   "cell_type": "code",
   "execution_count": null,
   "metadata": {},
   "outputs": [],
   "source": []
  },
  {
   "cell_type": "markdown",
   "metadata": {},
   "source": [
    "### Step 3: Choose threshold"
   ]
  },
  {
   "cell_type": "code",
   "execution_count": null,
   "metadata": {},
   "outputs": [],
   "source": []
  },
  {
   "cell_type": "markdown",
   "metadata": {},
   "source": [
    "### Step 4: Create graph"
   ]
  },
  {
   "cell_type": "code",
   "execution_count": null,
   "metadata": {},
   "outputs": [],
   "source": []
  },
  {
   "cell_type": "markdown",
   "metadata": {},
   "source": [
    "## Results\n",
    "\n",
    "### Graph representation"
   ]
  },
  {
   "cell_type": "code",
   "execution_count": null,
   "metadata": {},
   "outputs": [],
   "source": []
  },
  {
   "cell_type": "markdown",
   "metadata": {},
   "source": [
    "### Clustering"
   ]
  },
  {
   "cell_type": "code",
   "execution_count": null,
   "metadata": {},
   "outputs": [],
   "source": []
  },
  {
   "cell_type": "markdown",
   "metadata": {},
   "source": [
    "### Comparision to wikipedia portals"
   ]
  },
  {
   "cell_type": "code",
   "execution_count": null,
   "metadata": {},
   "outputs": [],
   "source": []
  }
 ],
 "metadata": {
  "kernelspec": {
   "display_name": "Python 3",
   "language": "python",
   "name": "python3"
  },
  "language_info": {
   "codemirror_mode": {
    "name": "ipython",
    "version": 3
   },
   "file_extension": ".py",
   "mimetype": "text/x-python",
   "name": "python",
   "nbconvert_exporter": "python",
   "pygments_lexer": "ipython3",
   "version": "3.7.3"
  }
 },
 "nbformat": 4,
 "nbformat_minor": 2
}
