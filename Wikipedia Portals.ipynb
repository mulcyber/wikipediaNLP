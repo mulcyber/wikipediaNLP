{
 "cells": [
  {
   "cell_type": "code",
   "execution_count": 26,
   "metadata": {},
   "outputs": [],
   "source": [
    "import numpy as np\n",
    "import wikipedia_preprocessing as wiki\n",
    "from sklearn.metrics.pairwise import cosine_similarity\n",
    "import pickle\n",
    "from os import path\n",
    "import re\n",
    "from matplotlib import pyplot as plt\n",
    "\n",
    "DATA_folder = path.join(\"Data\", \"Wikipedia\")"
   ]
  },
  {
   "cell_type": "code",
   "execution_count": 2,
   "metadata": {},
   "outputs": [
    {
     "name": "stdout",
     "output_type": "stream",
     "text": [
      "File  exists: aborting download (use force=True to download anyway).\n",
      "Pages already precomputed: aborting (use force=True).\n"
     ]
    }
   ],
   "source": [
    "wiki.get_all_dumps()\n",
    "wiki.precompute_pages(max_dumps=1)\n",
    "\n",
    "pages = wiki.Pages()"
   ]
  },
  {
   "cell_type": "code",
   "execution_count": 3,
   "metadata": {},
   "outputs": [],
   "source": [
    "reg_category = re.compile(\"^\\s*Category:.*\\s*$\")\n",
    "reg_redirect = re.compile(\"REDIRECT\")\n",
    "\n",
    "def get_categories(page):\n",
    "    categories = []\n",
    "    for line in page[\"content\"].split(\"\\n\"):\n",
    "        if reg_redirect.match(line):\n",
    "            return []\n",
    "        if reg_category.match(line):\n",
    "            categories.append(line.strip())\n",
    "    return categories\n"
   ]
  },
  {
   "cell_type": "code",
   "execution_count": 4,
   "metadata": {},
   "outputs": [],
   "source": [
    "def all_categories(pages):\n",
    "    categories = {}\n",
    "    i = 0\n",
    "    for p in pages:\n",
    "        print(\"\\r%s articles computed\" % i, end=\"\")\n",
    "        i += 1\n",
    "        page_cat = get_categories(p)\n",
    "        for cat in page_cat:\n",
    "            if cat in categories:\n",
    "                categories[cat].append(p[\"name\"])\n",
    "            else:\n",
    "                categories[cat] = [p[\"name\"]]\n",
    "    remove = [cat for cat, l in categories.items() if len(l) < 2]\n",
    "    for cat in remove:\n",
    "        del categories[cat]\n",
    "    print(\"\\nRemoved %d categories with 1 article\" % len(remove))\n",
    "    return categories"
   ]
  },
  {
   "cell_type": "code",
   "execution_count": 5,
   "metadata": {},
   "outputs": [
    {
     "name": "stdout",
     "output_type": "stream",
     "text": [
      "19821 articles computed\n",
      "Removed 43798 categories with 1 article\n"
     ]
    }
   ],
   "source": [
    "cats = all_categories(pages)"
   ]
  },
  {
   "cell_type": "code",
   "execution_count": 6,
   "metadata": {},
   "outputs": [
    {
     "data": {
      "text/plain": [
       "18080"
      ]
     },
     "execution_count": 6,
     "metadata": {},
     "output_type": "execute_result"
    }
   ],
   "source": [
    "len(cats)"
   ]
  },
  {
   "cell_type": "code",
   "execution_count": 7,
   "metadata": {},
   "outputs": [],
   "source": [
    "goodcat = [cat for cat, l in cats.items() if len(l) > 50]"
   ]
  },
  {
   "cell_type": "code",
   "execution_count": 8,
   "metadata": {},
   "outputs": [
    {
     "data": {
      "text/plain": [
       "34"
      ]
     },
     "execution_count": 8,
     "metadata": {},
     "output_type": "execute_result"
    }
   ],
   "source": [
    "len(goodcat)"
   ]
  },
  {
   "cell_type": "code",
   "execution_count": 188,
   "metadata": {},
   "outputs": [
    {
     "data": {
      "text/plain": [
       "2480"
      ]
     },
     "execution_count": 188,
     "metadata": {},
     "output_type": "execute_result"
    }
   ],
   "source": [
    "def get_connected_articles(cats, goodcats):\n",
    "    articles = set()\n",
    "    for cat in goodcats:\n",
    "        for art in cats[cat]:\n",
    "            articles.add(art)\n",
    "    return list(articles)\n",
    "\n",
    "def reorder_names(names):\n",
    "    pages = wiki.Pages()\n",
    "    new_names = []\n",
    "    for p in pages:\n",
    "        if p[\"name\"] in names:\n",
    "            new_names.append(p[\"name\"])\n",
    "    return new_names\n",
    "\n",
    "    \n",
    "names=reorder_names(get_connected_articles(cats, goodcat))\n",
    "len(names)"
   ]
  },
  {
   "cell_type": "code",
   "execution_count": 136,
   "metadata": {},
   "outputs": [],
   "source": [
    "def create_cat_matrix(goodcats, names):\n",
    "    Ncorp = len(names)\n",
    "    cat_matrix = np.zeros((Ncorp, Ncorp))\n",
    "    for cat in goodcats:\n",
    "        for i in range(len(cats[cat])):\n",
    "            for j in range(1, i):\n",
    "                x = names.index(cats[cat][i])\n",
    "                y = names.index(cats[cat][j])\n",
    "                cat_matrix[x, y] = cat_matrix[y, x] = 1\n",
    "    return cat_matrix\n",
    "\n",
    "cat_matrix = create_cat_matrix(goodcat, names)"
   ]
  },
  {
   "cell_type": "code",
   "execution_count": 10,
   "metadata": {},
   "outputs": [
    {
     "name": "stdout",
     "output_type": "stream",
     "text": [
      "Loading Word2vec model.\n",
      "Loaded from pickle\n"
     ]
    }
   ],
   "source": [
    "Nvec = 300\n",
    "word2vec = wiki.get_word2vec()"
   ]
  },
  {
   "cell_type": "code",
   "execution_count": 11,
   "metadata": {},
   "outputs": [
    {
     "name": "stdout",
     "output_type": "stream",
     "text": [
      "Pages vectors already computed: aborting.\n"
     ]
    }
   ],
   "source": [
    "filepath = path.join(DATA_folder, \"precomp\", \"pages_vectorize_cats.vec.gz\")\n",
    "pages = wiki.Pages()\n",
    "wiki.vectorize_pages_filtered(pages, word2vec, names, filepath)"
   ]
  },
  {
   "cell_type": "code",
   "execution_count": 12,
   "metadata": {},
   "outputs": [
    {
     "data": {
      "text/plain": [
       "['Category:Articles containing video clips',\n",
       " 'Category:RTT',\n",
       " 'Category:American people of English descent',\n",
       " 'Category:20th-century American novelists',\n",
       " 'Category:American science fiction writers',\n",
       " 'Category:Living people',\n",
       " 'Category:Members of the United States National Academy of Sciences',\n",
       " 'Category:Republics',\n",
       " 'Category:Member states of the United Nations',\n",
       " 'Category:Fellows of the American Academy of Arts and Sciences',\n",
       " 'Category:Rock and Roll Hall of Fame inductees',\n",
       " 'Category:American male novelists',\n",
       " 'Category:Chemical elements',\n",
       " 'Category:20th-century American male writers',\n",
       " 'Category:American male non-fiction writers',\n",
       " 'Category:English-speaking countries and territories',\n",
       " 'Category:Guggenheim Fellows',\n",
       " 'Category:Days of the year',\n",
       " 'Category:American inventions',\n",
       " 'Category:Fellows of the Royal Society',\n",
       " 'Category:Christian terminology',\n",
       " 'Category:Year of birth unknown',\n",
       " 'Category:American people of Irish descent',\n",
       " 'Category:20th-century American male actors',\n",
       " 'Category:American male film actors',\n",
       " 'Category:Grammy Award winners',\n",
       " 'Category:2001 deaths',\n",
       " 'Category:American male television actors',\n",
       " 'Category:Presidential Medal of Freedom recipients',\n",
       " 'Category:American people of German descent',\n",
       " 'Category:American films',\n",
       " 'Category:English-language films',\n",
       " 'Category:Popes',\n",
       " 'Category:Italian popes']"
      ]
     },
     "execution_count": 12,
     "metadata": {},
     "output_type": "execute_result"
    }
   ],
   "source": [
    "goodcat"
   ]
  },
  {
   "cell_type": "code",
   "execution_count": 92,
   "metadata": {},
   "outputs": [],
   "source": [
    "graph_filepath = path.join(DATA_folder, \"precomp\", \"categories.dot\")\n",
    "def save_dot_file(names, cats, goodcats, filename):\n",
    "    with open(filename, \"w\") as f:\n",
    "        f.write(\"graph graphname {\")\n",
    "        f.write(\"node [shape=point, fontsize=0]\")\n",
    "        for c in goodcats:\n",
    "            for i, a in enumerate(cats[c]):\n",
    "                for j in range(i + 1, len(cats[c])):\n",
    "                    x = names.index(cats[c][i])\n",
    "                    y = names.index(cats[c][j])\n",
    "                    if x < 200 and y < 200:\n",
    "                        f.write(\"a%d -- a%d;\" % (x, y))\n",
    "        f.write(\"}\")\n",
    "\n",
    "save_dot_file(names, cats, goodcat, graph_filepath)"
   ]
  },
  {
   "cell_type": "code",
   "execution_count": 14,
   "metadata": {},
   "outputs": [
    {
     "data": {
      "text/plain": [
       "<gensim.models.keyedvectors.Word2VecKeyedVectors at 0x7ff4512e7c88>"
      ]
     },
     "execution_count": 14,
     "metadata": {},
     "output_type": "execute_result"
    }
   ],
   "source": [
    "word2vec"
   ]
  },
  {
   "cell_type": "code",
   "execution_count": 15,
   "metadata": {},
   "outputs": [
    {
     "data": {
      "text/plain": [
       "13169"
      ]
     },
     "execution_count": 15,
     "metadata": {},
     "output_type": "execute_result"
    }
   ],
   "source": [
    "word2vec.vocab.get(\"hello\").index"
   ]
  },
  {
   "cell_type": "code",
   "execution_count": 273,
   "metadata": {},
   "outputs": [],
   "source": [
    "sim_matrix_path = path.join(DATA_folder, \"precomp\", \"sim1_matrix_%d.pkl\")\n",
    "\n",
    "with open(sim_matrix_path % 100, \"rb\") as f:\n",
    "    sim_matrix = pickle.load(f)"
   ]
  },
  {
   "cell_type": "code",
   "execution_count": 193,
   "metadata": {},
   "outputs": [],
   "source": [
    "sim_graph_filepath = path.join(DATA_folder, \"precomp\", \"similarity.dot\")\n",
    "def sim_save_dot_file(matrix, threshold, filename):\n",
    "    with open(filename, \"w\") as f:\n",
    "        N = len(matrix)\n",
    "        f.write(\"graph graphname {\")\n",
    "        f.write(\"node [shape=point, fontsize=0]\")\n",
    "        for i in range(N):\n",
    "            for j in range(i + 1, N):\n",
    "                if matrix[i, j] > threshold:\n",
    "                    f.write(\"a%d -- a%d;\" % (i, j))\n",
    "        f.write(\"}\")\n",
    "\n",
    "sim_save_dot_file(sim_matrix, 40, sim_graph_filepath)"
   ]
  },
  {
   "cell_type": "code",
   "execution_count": 275,
   "metadata": {},
   "outputs": [
    {
     "name": "stdout",
     "output_type": "stream",
     "text": [
      "12\n",
      "['Atom', 'Algeria', 'Albertus Magnus', 'Andorra', 'Accordion', 'April 13', 'August 1', 'Albania', 'April 15', 'Atomic orbital']\n"
     ]
    }
   ],
   "source": [
    "def search_similar(name, sim_matrix, names, N=10):\n",
    "    matches = np.argsort(-sim_matrix[names.index(name), :])\n",
    "    return [names[matches[i]] for i in range(N)]\n",
    "\n",
    "print(names.index('Albert Einstein'))\n",
    "print(search_similar('Albert Einstein', sim_matrix, names, N=10))"
   ]
  },
  {
   "cell_type": "code",
   "execution_count": 276,
   "metadata": {},
   "outputs": [
    {
     "name": "stdout",
     "output_type": "stream",
     "text": [
      "8\n",
      "['Apollo program', 'Accordion', 'Alkali metal', 'Abscess', 'Americium', 'Atlantic Ocean', 'Atom', 'Aluminium', 'Argon', 'Andorra']\n"
     ]
    }
   ],
   "source": [
    "print(names.index('Apollo 11'))\n",
    "print(search_similar('Apollo 11', sim_matrix, names, N=10))"
   ]
  },
  {
   "cell_type": "code",
   "execution_count": 195,
   "metadata": {},
   "outputs": [
    {
     "name": "stdout",
     "output_type": "stream",
     "text": [
      "Loaded doc vectors\n"
     ]
    }
   ],
   "source": [
    "vec_doc_filepath = path.join(DATA_folder, \"vec_doc.pkl\")\n",
    "\n",
    "if path.isfile(vec_doc_filepath):\n",
    "    with open(vec_doc_filepath, \"rb\") as f:\n",
    "        doc_vectors = pickle.load(f)\n",
    "    print(\"Loaded doc vectors\")"
   ]
  },
  {
   "cell_type": "code",
   "execution_count": 135,
   "metadata": {},
   "outputs": [
    {
     "data": {
      "text/plain": [
       "[('jeder', 0.9999999403953552),\n",
       " ('ArXiv', 1.0000003576278687),\n",
       " ('Betrachtungen', 1.0000001192092896),\n",
       " ('hf', 1.000000238418579),\n",
       " ('pointlike', 1.0000003576278687),\n",
       " ('Ostende', 0.9999996423721313),\n",
       " ('covariant', 1.0),\n",
       " ('1,427', 1.0000003576278687),\n",
       " ('stepdaughters', 1.0),\n",
       " ('Plumbers', 0.9999998211860657)]"
      ]
     },
     "execution_count": 135,
     "metadata": {},
     "output_type": "execute_result"
    }
   ],
   "source": [
    "def get_words(name, names, doc_vectors, N=10):\n",
    "    return [word2vec.similar_by_vector(doc_vectors[names.index(name), i, :Nvec])[0] for i in range(N)]\n",
    "    \n",
    "get_words('Albert Einstein', names, doc_vectors, N=10)"
   ]
  },
  {
   "cell_type": "code",
   "execution_count": null,
   "metadata": {},
   "outputs": [],
   "source": []
  },
  {
   "cell_type": "code",
   "execution_count": 274,
   "metadata": {},
   "outputs": [
    {
     "data": {
      "image/png": "[encoded data removed]",
      "text/plain": [
       "<Figure size 576x360 with 1 Axes>"
      ]
     },
     "metadata": {
      "needs_background": "light"
     },
     "output_type": "display_data"
    }
   ],
   "source": [
    "plt.figure(figsize=(8, 5))\n",
    "plt.hist(sim_matrix[sim_matrix != 0].reshape((-1, 1)), 40)\n",
    "plt.xlabel(\"Similarity\")\n",
    "plt.ylabel(\"N\")\n",
    "plt.savefig(path.join(DATA_folder, \"img\", \"hist1_%d.png\" % len(sim_matrix)))\n",
    "plt.show()"
   ]
  },
  {
   "cell_type": "code",
   "execution_count": 249,
   "metadata": {},
   "outputs": [
    {
     "data": {
      "text/plain": [
       "array([[0.16284633, 0.18562966, 0.19484973, ..., 0.19360798, 0.1761948 ,\n",
       "        0.17370621],\n",
       "       [0.18562966, 0.16284633, 0.19758607, ..., 0.19436163, 0.19571199,\n",
       "        0.19843324],\n",
       "       [0.19484973, 0.19758607, 0.16284633, ..., 0.18823476, 0.19396306,\n",
       "        0.19244777],\n",
       "       ...,\n",
       "       [0.19360798, 0.19436163, 0.18823476, ..., 0.16284633, 0.21722178,\n",
       "        0.21331617],\n",
       "       [0.1761948 , 0.19571199, 0.19396306, ..., 0.21722178, 0.16284633,\n",
       "        0.23760624],\n",
       "       [0.17370621, 0.19843324, 0.19244777, ..., 0.21331617, 0.23760624,\n",
       "        0.16284633]])"
      ]
     },
     "execution_count": 249,
     "metadata": {},
     "output_type": "execute_result"
    }
   ],
   "source": [
    "sim_matrix[sim_matrix == 0] = np.min(sim_matrix[sim_matrix != 0])\n",
    "sim_matrix"
   ]
  },
  {
   "cell_type": "code",
   "execution_count": 265,
   "metadata": {},
   "outputs": [
    {
     "data": {
      "image/png": "[encoded data removed]",
      "text/plain": [
       "<Figure size 576x360 with 2 Axes>"
      ]
     },
     "metadata": {
      "needs_background": "light"
     },
     "output_type": "display_data"
    }
   ],
   "source": [
    "def true_pos_rate(ref_matrix, sim_matrix, threshold):\n",
    "    return np.sum(ref_matrix[sim_matrix > threshold]) / np.sum(ref_matrix)\n",
    "\n",
    "def false_pos_rate(ref_matrix, sim_matrix, threshold):\n",
    "    return np.sum(1 - ref_matrix[sim_matrix > threshold]) / np.sum(1 - ref_matrix)\n",
    "\n",
    "def RoC_curve(ref_matrix, sim_matrix, thresholds):\n",
    "    true_pos_rates = np.zeros(len(thresholds))\n",
    "    false_pos_rates = np.zeros(len(thresholds))\n",
    "    for i, t in enumerate(thresholds):\n",
    "        true_pos_rates[i] = true_pos_rate(ref_matrix, sim_matrix, t)\n",
    "        false_pos_rates[i] = false_pos_rate(ref_matrix, sim_matrix, t)\n",
    "    return true_pos_rates, false_pos_rates\n",
    "\n",
    "\n",
    "def plot_curve(ref_matrix, sim_matrix, a, b, n=20, filename=None):\n",
    "    thresholds = np.arange(a, b, (b - a)/n)\n",
    "    true_pos_rates, false_pos_rates = RoC_curve(ref_matrix, sim_matrix, thresholds)\n",
    "    f1 = 2 * true_pos_rates * (1 - false_pos_rates) / (true_pos_rates + 1 - false_pos_rates)\n",
    "    fig, ax1 = plt.subplots(figsize=(8, 5))\n",
    "    ax2 = ax1.twinx()\n",
    "    ax1.plot(false_pos_rates, true_pos_rates)\n",
    "    ax2.plot(false_pos_rates, f1, \"r\")\n",
    "    ax1.plot([0, 1], [0, 1], \"b--\")\n",
    "    ax2.plot(false_pos_rates[np.argmax(f1)], np.max(f1), \"ro\")\n",
    "    ax2.annotate(\"t = %.2f\" % thresholds[np.argmax(f1)], (false_pos_rates[np.argmax(f1)], np.max(f1) + 0.03))\n",
    "    ax1.set_xlabel(\"FPR: False positive rate\")\n",
    "    ax1.set_ylabel(\"TPR: True positive rate\")\n",
    "    ax2.set_ylabel(\"F1 score\")\n",
    "    ax1.set_xlim([0, 1])\n",
    "    ax1.set_ylim([0, 1])\n",
    "    ax2.set_ylim([0, 1])\n",
    "    if filename:\n",
    "        plt.savefig(filename)\n",
    "    else:\n",
    "        plt.show()\n",
    "    \n",
    "    \n",
    "Nmat = len(sim_matrix)\n",
    "ref_matrix = cat_matrix[:Nmat, :Nmat]\n",
    "a, b = -0.10, 0.15\n",
    "plot_curve(ref_matrix, sim_matrix, a, b, n=100, filename=path.join(DATA_folder, \"img\", \"ROC1_small_%d.png\" % len(sim_matrix)))"
   ]
  },
  {
   "cell_type": "code",
   "execution_count": null,
   "metadata": {},
   "outputs": [],
   "source": []
  },
  {
   "cell_type": "markdown",
   "metadata": {},
   "source": [
    "## "
   ]
  }
 ],
 "metadata": {
  "kernelspec": {
   "display_name": "Python 3",
   "language": "python",
   "name": "python3"
  },
  "language_info": {
   "codemirror_mode": {
    "name": "ipython",
    "version": 3
   },
   "file_extension": ".py",
   "mimetype": "text/x-python",
   "name": "python",
   "nbconvert_exporter": "python",
   "pygments_lexer": "ipython3",
   "version": "3.7.3"
  }
 },
 "nbformat": 4,
 "nbformat_minor": 2
}
